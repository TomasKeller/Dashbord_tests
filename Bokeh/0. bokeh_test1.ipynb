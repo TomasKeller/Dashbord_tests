{
 "cells": [
  {
   "cell_type": "code",
   "execution_count": 1,
   "metadata": {
    "collapsed": false
   },
   "outputs": [
    {
     "ename": "ImportError",
     "evalue": "cannot import name output_server",
     "output_type": "error",
     "traceback": [
      "\u001b[0;31m---------------------------------------------------------------------------\u001b[0m",
      "\u001b[0;31mImportError\u001b[0m                               Traceback (most recent call last)",
      "\u001b[0;32m<ipython-input-1-265ad961e501>\u001b[0m in \u001b[0;36m<module>\u001b[0;34m()\u001b[0m\n\u001b[1;32m      4\u001b[0m \u001b[0;31m#from bokeh.io import curdoc, vform, output_file, show, output_server\u001b[0m\u001b[0;34m\u001b[0m\u001b[0;34m\u001b[0m\u001b[0m\n\u001b[1;32m      5\u001b[0m \u001b[0;34m\u001b[0m\u001b[0m\n\u001b[0;32m----> 6\u001b[0;31m \u001b[0;32mfrom\u001b[0m \u001b[0mbokeh\u001b[0m\u001b[0;34m.\u001b[0m\u001b[0mio\u001b[0m \u001b[0;32mimport\u001b[0m \u001b[0mcurdoc\u001b[0m\u001b[0;34m,\u001b[0m \u001b[0moutput_file\u001b[0m\u001b[0;34m,\u001b[0m \u001b[0mshow\u001b[0m\u001b[0;34m,\u001b[0m \u001b[0moutput_server\u001b[0m\u001b[0;34m\u001b[0m\u001b[0m\n\u001b[0m\u001b[1;32m      7\u001b[0m \u001b[0;32mfrom\u001b[0m \u001b[0mbokeh\u001b[0m\u001b[0;34m.\u001b[0m\u001b[0mlayouts\u001b[0m \u001b[0;32mimport\u001b[0m \u001b[0mrow\u001b[0m\u001b[0;34m,\u001b[0m \u001b[0mcolumn\u001b[0m\u001b[0;34m,\u001b[0m \u001b[0mwidgetbox\u001b[0m\u001b[0;34m,\u001b[0m \u001b[0mlayout\u001b[0m\u001b[0;34m\u001b[0m\u001b[0m\n\u001b[1;32m      8\u001b[0m \u001b[0;32mfrom\u001b[0m \u001b[0mbokeh\u001b[0m\u001b[0;34m.\u001b[0m\u001b[0mmodels\u001b[0m \u001b[0;32mimport\u001b[0m \u001b[0mColumnDataSource\u001b[0m\u001b[0;34m,\u001b[0m \u001b[0mDateFormatter\u001b[0m\u001b[0;34m\u001b[0m\u001b[0m\n",
      "\u001b[0;31mImportError\u001b[0m: cannot import name output_server"
     ]
    }
   ],
   "source": [
    "import pandas as pd\n",
    "import numpy as np\n",
    "\n",
    "#from bokeh.io import curdoc, vform, output_file, show, output_server\n",
    "\n",
    "from bokeh.io import curdoc, output_file, show, output_server\n",
    "from bokeh.layouts import row, column, widgetbox, layout\n",
    "from bokeh.models import ColumnDataSource, DateFormatter\n",
    "from bokeh.models.widgets import Slider, TextInput, Panel, Tabs, CheckboxGroup, Div\n",
    "from bokeh.models.widgets import Toggle, DataTable, DateFormatter, TableColumn, Button\n",
    "from bokeh.plotting import figure\n",
    "\n",
    "\n",
    "\n",
    "output_server('test2')\n",
    "\n",
    "\n",
    "files = ['planning_0904.csv']\n",
    "names = ['URL Visits', 'Searches', 'Unique Users', 'In-Tab Users']\n",
    "\n",
    "\n",
    "\n",
    "\n"
   ]
  },
  {
   "cell_type": "code",
   "execution_count": 2,
   "metadata": {
    "collapsed": false
   },
   "outputs": [
    {
     "data": {
      "text/plain": [
       "u'0.12.7'"
      ]
     },
     "execution_count": 2,
     "metadata": {},
     "output_type": "execute_result"
    }
   ],
   "source": [
    "import bokeh   \n",
    "bokeh.__version__ "
   ]
  },
  {
   "cell_type": "code",
   "execution_count": 47,
   "metadata": {
    "collapsed": false
   },
   "outputs": [
    {
     "data": {
      "text/plain": [
       "33"
      ]
     },
     "execution_count": 47,
     "metadata": {},
     "output_type": "execute_result"
    }
   ],
   "source": [
    "df = pd.read_csv('reports/{}'.format(files[0]), sep=';')\n",
    "len(df.columns)"
   ]
  },
  {
   "cell_type": "code",
   "execution_count": 2,
   "metadata": {
    "collapsed": true
   },
   "outputs": [],
   "source": [
    "\n",
    "from bokeh.client import push_session\n",
    "from bokeh.layouts import row, column\n",
    "from bokeh.models import BoxSelectTool, LassoSelectTool, Spacer\n",
    "from bokeh.plotting import curdoc, figure\n"
   ]
  },
  {
   "cell_type": "code",
   "execution_count": 3,
   "metadata": {
    "collapsed": true
   },
   "outputs": [],
   "source": [
    "def create_panels(files, names):\n",
    "\n",
    "\ttab_list = []\n",
    "\n",
    "\tfor i in range(len(files)):\n",
    "\n",
    "\t\tdf = pd.read_csv('reports/{}'.format(files[i]), sep=';')\n",
    "\t\tcol1 = df.columns[0]\n",
    "\t\tcol2 = df.columns[1]\n",
    "\n",
    "\t\tif col1 == 'month':\n",
    "\t\t\tdf['month'] = pd.to_datetime(df['month'])\n",
    "\n",
    "\t\t\t# create a new plot with a datetime axis type\n",
    "\t\t\tp = figure(width=800, height=350, x_axis_type=\"datetime\")\n",
    "\n",
    "\t\t\t# create 30 day rolling average if plotting dates\n",
    "\t\t\twindow_size = 30\n",
    "\t\t\twindow = np.ones(window_size)/float(window_size)\n",
    "\t\t\tavg = np.convolve(df[col2], window, 'same')\n",
    "\n",
    "\t\t\tsource = ColumnDataSource(df)\n",
    "\t\t\t#add renderers\n",
    "\t\t\tp.line(source.data[col1], avg, color='navy', legend='avg')\n",
    "\t\t\tp.circle(source.data[col1], source.data[col2], size=4, color='darkgrey', alpha=0.2, legend='{}'.format(names[i]))\n",
    "\t\t\t\n",
    "\t\t\tp.title.text = \"One-Month Average of {}\".format(names[i])\n",
    "\n",
    "\t\telse:\n",
    "\n",
    "\t\t\tp = figure(width=800, height=350)\n",
    "\t\t\tsource = ColumnDataSource(df)\n",
    "\t\t    #add renderers\n",
    "\t\t\tp.line(source.data[col1], source.data[col2], line_width=2)\n",
    "\t\t\tp.circle(source.data[col1], source.data[col2], fill_color=\"white\", size=8)\n",
    "\t\t\tp.title.text = \"Count of {}\".format(names[i])\n",
    "\n",
    "\t\t# NEW: customize by setting attributes\n",
    "\t\tp.legend.location = \"top_left\"\n",
    "\t\tp.grid.grid_line_alpha=0\n",
    "\t\tp.xaxis.axis_label = '{}'.format(col1)\n",
    "\t\tp.yaxis.axis_label = '{}'.format(names[i])\n",
    "\t\tp.ygrid.band_fill_color=\"olive\"\n",
    "\t\tp.ygrid.band_fill_alpha = 0.1\n",
    "\n",
    "\t\tcolumns = [\n",
    "\t        TableColumn(field=c, title=c, formatter=DateFormatter(format='m/d/yy') if np.issubdtype(df[c].dtype, np.datetime64) else None) for c in df.columns\n",
    "\t        ]\n",
    "\n",
    "\t\tdata_table = DataTable(source=source, columns=columns, width=400, height=280)\n",
    "\n",
    "\t\tdiv = Div(text=\"\"\"<h2>Quick Info:</h2>\n",
    "\t\t\t\t\t\t\t<ul>\n",
    "\t\t\t\t\t\t\t<li>Number of observations: {}</li>\n",
    "\t\t\t\t\t\t\t<li>Max: {}</li>\n",
    "\t\t\t\t\t\t\t<li>Min: {}</li>\n",
    "\t\t\t\t\t\t\t</ul>\n",
    "\t\t\t\t\t\t\t\"\"\".format(df.shape[0], df[col2].max(), df[col2].min()),\n",
    "\t\t\t\t\twidth=400, height=100)\n",
    "\n",
    "\t\tinfo = row(data_table, div) \n",
    "\n",
    "\t\ttab_list.append(Panel(child= column(p, info), title=names[i]))\n",
    "\n",
    "\treturn tab_list\n",
    "\n"
   ]
  },
  {
   "cell_type": "code",
   "execution_count": 6,
   "metadata": {
    "collapsed": false
   },
   "outputs": [],
   "source": [
    "# # Set up widgets\n",
    "#text = TextInput(title=\"Title\", value='One-Month Average')\n",
    "#windowsize = Slider(title=\"Window Size\", value=30, start=0, end=60, step=2)\n",
    "\n",
    "# Set up callbacks\n",
    "def update_title(attrname, old, new):\n",
    "    p1.title.text = text.value\n",
    "\n",
    "def update_window(attrname, old, new):\n",
    "\n",
    "    # Get the current slider values\n",
    "    window_size = windowsize.value\n",
    "\n",
    "    # re calculate average and re-draw line\n",
    "    window = np.ones(window_size)/float(window_size)\n",
    "    avg = np.convolve(source.data[col2], window, 'same')\n",
    "    p1.line(source.data[col1], avg, color='navy', legend='avg')\n",
    "\n",
    "\n"
   ]
  },
  {
   "cell_type": "code",
   "execution_count": 15,
   "metadata": {
    "collapsed": false
   },
   "outputs": [
    {
     "name": "stdout",
     "output_type": "stream",
     "text": [
      "\n",
      "press ctrl-C to exit\n"
     ]
    }
   ],
   "source": [
    "\n",
    "\n",
    "\n",
    "\n",
    "\n",
    "document = curdoc()\n",
    "document.title = \"Selection Histogram\"\n",
    "\n",
    "if __name__ == \"__main__\":\n",
    "    print(\"\\npress ctrl-C to exit\")\n",
    "    session = push_session(document)\n",
    "    session.show()\n",
    "    session.loop_until_closed()"
   ]
  },
  {
   "cell_type": "code",
   "execution_count": 50,
   "metadata": {
    "collapsed": false
   },
   "outputs": [],
   "source": [
    "checkbox_group = CheckboxGroup(\n",
    "        labels=[\"Option 1\", \"Option 2\", \"Option 3\"], active=[0, 1])\n",
    "button = Button(label=\"Foo\", button_type=\"success\")\n",
    "\n",
    "text.on_change('value', update_title)\n",
    "windowsize.on_change('value', update_window)\n",
    "\n",
    "\n",
    "tabs = Tabs(tabs=create_panels(files, names), width=800)\n",
    "inputs = widgetbox(text, windowsize, checkbox_group, button)#, amplitude, phase, freq)\n",
    "\n",
    "\n",
    "\n",
    "curdoc().add_root(row(inputs, tabs))\n",
    "curdoc().title = \"Dashboard\""
   ]
  },
  {
   "cell_type": "code",
   "execution_count": null,
   "metadata": {
    "collapsed": true
   },
   "outputs": [],
   "source": []
  }
 ],
 "metadata": {
  "kernelspec": {
   "display_name": "Python 2",
   "language": "python",
   "name": "python2"
  },
  "language_info": {
   "codemirror_mode": {
    "name": "ipython",
    "version": 2
   },
   "file_extension": ".py",
   "mimetype": "text/x-python",
   "name": "python",
   "nbconvert_exporter": "python",
   "pygments_lexer": "ipython2",
   "version": "2.7.12"
  }
 },
 "nbformat": 4,
 "nbformat_minor": 0
}
